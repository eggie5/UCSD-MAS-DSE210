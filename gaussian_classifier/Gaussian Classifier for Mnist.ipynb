{
 "cells": [
  {
   "cell_type": "markdown",
   "metadata": {},
   "source": [
    "# Gaussian Classifier for MNIST\n",
    "\n",
    "This paper will document the implementation of a handwritten digit recognition system using a Gaussian generative model. We will use the mnist dataset which can be obtained from: \n",
    "                          http://yann.lecun.com/exdb/mnist/index.html\n",
    "                          \n",
    "## MNIST Summary\n",
    "\n",
    "Mnist has 60k training examples and 10k test examples. For this model we have 10 classes to classify: `0, 1, 2, 3, 4, 5, 6, 7, 8, 9`, which represents the digits 0-9. Each example in mnist is a 28x28 image represented by 784 features. Each class will modeled by a multivariate 784-dimensional gaussian. In other words we have a 784-dimensional feature vector and 10 768 degree multivariate gaussians."
   ]
  },
  {
   "cell_type": "markdown",
   "metadata": {},
   "source": [
    "# Iris"
   ]
  },
  {
   "cell_type": "markdown",
   "metadata": {},
   "source": [
    "Before we get started on mnist, lets work on a smaller scale w/ the iris dataset. 4 Features/target. 4 classes. So each class would have a 4D M-Gaussian. This is actually a really good model for IRIS b/c gaussians follow the random patterns in nature and iris is samples from nature."
   ]
  },
  {
   "cell_type": "code",
   "execution_count": 2,
   "metadata": {
    "collapsed": false
   },
   "outputs": [
    {
     "name": "stdout",
     "output_type": "stream",
     "text": [
      "Populating the interactive namespace from numpy and matplotlib\n"
     ]
    },
    {
     "data": {
      "text/plain": [
       "GaussianNB()"
      ]
     },
     "execution_count": 2,
     "metadata": {},
     "output_type": "execute_result"
    }
   ],
   "source": [
    "import math\n",
    "import matplotlib.pyplot as plt\n",
    "%pylab inline\n",
    "import numpy as np\n",
    "from sklearn import datasets\n",
    "iris = datasets.load_iris()\n",
    "from sklearn.naive_bayes import GaussianNB\n",
    "gnb = GaussianNB()\n",
    "gnb.fit(iris.data, iris.target)"
   ]
  },
  {
   "cell_type": "markdown",
   "metadata": {},
   "source": [
    "As you can see from the Iris data, we have 150 examples, with 3 total classes. Therefore the class priori or $π_j = 1/3$"
   ]
  },
  {
   "cell_type": "code",
   "execution_count": 3,
   "metadata": {
    "collapsed": false
   },
   "outputs": [
    {
     "name": "stdout",
     "output_type": "stream",
     "text": [
      "[0 1 2]\n",
      "[ 50.  50.  50.]\n",
      "[ 0.33333333  0.33333333  0.33333333]\n",
      "[[ 0.121764  0.142276  0.029504  0.011264]\n",
      " [ 0.261104  0.0965    0.2164    0.038324]\n",
      " [ 0.396256  0.101924  0.298496  0.073924]]\n"
     ]
    }
   ],
   "source": [
    "print gnb.classes_\n",
    "print gnb.class_count_\n",
    "print gnb.class_prior_\n",
    "print gnb.sigma_ # variance of each feature per class -- not Sigma in the context of covariance matrix"
   ]
  },
  {
   "cell_type": "markdown",
   "metadata": {},
   "source": [
    "Now, what scikit did was to fit a gaussian to each of the classes (3) in the training set examples. It does that by finding the mean and the covariance from the examples. Let the Gaussian for the jth class be: $P_j = N(\\mu_j, \\Sigma_j)$."
   ]
  },
  {
   "cell_type": "markdown",
   "metadata": {},
   "source": [
    "$\\DeclareMathOperator*{\\argmax}{arg\\,max}$\n",
    "Then in order to classify an unknown flower, simply use the class prior w/ the class posterior (bayes rule) fo all the classes and choose the one w/ the largest probability:\n",
    "\n",
    "$$\\argmax_j \\pi_j*P_j$$"
   ]
  },
  {
   "cell_type": "code",
   "execution_count": 4,
   "metadata": {
    "collapsed": false
   },
   "outputs": [
    {
     "name": "stdout",
     "output_type": "stream",
     "text": [
      "Number of mislabeled points out of a total 150 points : 6\n"
     ]
    }
   ],
   "source": [
    "y_pred = gnb.predict(iris.data)\n",
    "print(\"Number of mislabeled points out of a total %d points : %d\" % (iris.data.shape[0],(iris.target != y_pred).sum()))"
   ]
  },
  {
   "cell_type": "markdown",
   "metadata": {},
   "source": [
    "Easy huh? Now, the devil is in the details: how do you calculate $P_j$, how do we estimate a gaussian for each class j?\n",
    "\n",
    "$$P_j = N(\\mu_j, \\Sigma_j)$$"
   ]
  },
  {
   "cell_type": "markdown",
   "metadata": {},
   "source": [
    "We know that $p(\\hat{x})$, the probability density function (PDF) of a multivariate Gaussian is this standard form:\n",
    "\n",
    "$$\n",
    "p(\\hat{x}) = \\frac{1}{\\sqrt{(2 \\pi)^k \\det \\Sigma}} \\exp\\left( -\\frac{1}{2} (x - \\mu)^T \\Sigma^{-1} (x - \\mu) \\right)\n",
    "$$\n",
    "\n",
    "\n",
    "Therefore the trick is to tune $\\Sigma$, the covariance matrix, to model the training data."
   ]
  },
  {
   "cell_type": "markdown",
   "metadata": {},
   "source": [
    "$\\Sigma$ is a p x p matrix containing all pairwise covariances, where p is the number of features in your training set:\n",
    "\n",
    "$$\n",
    "\\Sigma_{ij} = \\Sigma_{ji} = cov(X_i, X_j)    if i!=j\n",
    "$$\n",
    "$$\n",
    "\\Sigma_{ii} = var(X_i)\n",
    "$$\n",
    "\n",
    "\n",
    "$$\n",
    "\\begin{bmatrix}\n",
    "    var(x_1) & cov(x_1,x_2) & \\dots  & x_{1n} \\\\\n",
    "    cov(x_2) & var(x_2) & \\dots  & x_{2n} \\\\\n",
    "    \\vdots & \\vdots & \\ddots & \\vdots \\\\\n",
    "    x_{d1} & x_{d2} & \\dots  & var(x_n)\n",
    "\\end{bmatrix}\n",
    "$$\n",
    "\n",
    "Then, given some training points, the way to generate this matrix using numpy: `np.cov(examples, rowvar=0)`\n",
    "\n",
    "Then, for each target/class (10) you will get a $\\mu$ and a $\\Sigma$ that you can pop into the numpy PDF routine: `np.random.multivariate_normal`"
   ]
  },
  {
   "cell_type": "code",
   "execution_count": 31,
   "metadata": {
    "collapsed": false
   },
   "outputs": [],
   "source": [
    "mean = np.array(examples.mean(0))[0]\n",
    "cov = np.cov(examples, rowvar=0)\n",
    "p_x = multivariate_normal(mean=mean, cov=cov)"
   ]
  },
  {
   "cell_type": "markdown",
   "metadata": {
    "collapsed": false
   },
   "source": [
    "For iris dataset we will have 4x4 covariance matrix b/c there are 4 features in our training set., here's an example of finding the covariance matrix $\\Sigma$ on the iris trainging set. We should be abel to confirm our answer"
   ]
  },
  {
   "cell_type": "code",
   "execution_count": 6,
   "metadata": {
    "collapsed": false
   },
   "outputs": [
    {
     "data": {
      "text/plain": [
       "(25, 4)"
      ]
     },
     "execution_count": 6,
     "metadata": {},
     "output_type": "execute_result"
    }
   ],
   "source": [
    "#lets split into a test and training set\n",
    "from sklearn.cross_validation import train_test_split\n",
    "X_train, X_test, Y_train, Y_test = train_test_split(iris.data,iris.target, test_size=0.4, random_state=4)\n",
    "\n",
    "# lets gather all the examples from class 0\n",
    "def get_examples_for_class(class_id):\n",
    "    examples = []\n",
    "    for i, example in enumerate(X_train):\n",
    "        if Y_train[i]==class_id:\n",
    "            examples.append(example)\n",
    "        \n",
    "    examples = np.matrix(examples)\n",
    "    return examples\n",
    "\n",
    "examples = get_examples_for_class(0)\n",
    "examples.shape"
   ]
  },
  {
   "cell_type": "markdown",
   "metadata": {
    "collapsed": false
   },
   "source": [
    "Now according to the above assertion this should map to a 4x4 covariance matrix. We can use `numpy.cov` to test this assertion and then look at how to implement the equivilent `numpy.cov` in python."
   ]
  },
  {
   "cell_type": "code",
   "execution_count": 7,
   "metadata": {
    "collapsed": false
   },
   "outputs": [
    {
     "name": "stdout",
     "output_type": "stream",
     "text": [
      "[ 4.964  3.416  1.44   0.24 ]\n",
      "[[ 0.1049      0.06976667  0.01483333  0.00566667]\n",
      " [ 0.06976667  0.10723333  0.00391667  0.00266667]\n",
      " [ 0.01483333  0.00391667  0.02583333  0.00625   ]\n",
      " [ 0.00566667  0.00266667  0.00625     0.01      ]]\n"
     ]
    }
   ],
   "source": [
    "mean = np.array(examples.mean(0))[0]\n",
    "cov = np.cov(examples.T) # I don't know why you have to transpose the input to numpy... \n",
    "print mean\n",
    "print cov #should be 4x4 for iris"
   ]
  },
  {
   "cell_type": "markdown",
   "metadata": {
    "collapsed": true
   },
   "source": [
    "Now we can take this covariance matrix and pipe it into the numpy PDF routine to get our distribution:"
   ]
  },
  {
   "cell_type": "code",
   "execution_count": 8,
   "metadata": {
    "collapsed": true
   },
   "outputs": [],
   "source": [
    "from scipy.stats import multivariate_normal"
   ]
  },
  {
   "cell_type": "code",
   "execution_count": 9,
   "metadata": {
    "collapsed": false
   },
   "outputs": [],
   "source": [
    "P_0 = np.random.multivariate_normal(mean, cov).T\n",
    "P_0\n",
    "\n",
    "var = multivariate_normal(mean=mean, cov=cov)"
   ]
  },
  {
   "cell_type": "markdown",
   "metadata": {},
   "source": [
    "Now according to equation 1, if we want to classify some vector, X,\n",
    "\n",
    "$$\\argmax_j \\pi_j*P_j(X)$$"
   ]
  },
  {
   "cell_type": "markdown",
   "metadata": {},
   "source": [
    "lets test the probabity the the following test vector is in class 0, or:\n",
    "\n",
    "$$ \\pi_0*P_0(X) $$\n",
    "\n",
    "where, X is the vector below:"
   ]
  },
  {
   "cell_type": "code",
   "execution_count": 10,
   "metadata": {
    "collapsed": false
   },
   "outputs": [
    {
     "name": "stdout",
     "output_type": "stream",
     "text": [
      "[ 5.4  3.   4.5  1.5]\n"
     ]
    }
   ],
   "source": [
    "X1=X_test[15]\n",
    "import random\n",
    "X1 = random.choice (X_test)\n",
    "print X1"
   ]
  },
  {
   "cell_type": "code",
   "execution_count": 11,
   "metadata": {
    "collapsed": false
   },
   "outputs": [
    {
     "data": {
      "text/plain": [
       "[0, 9.6702924830667242e-90]"
      ]
     },
     "execution_count": 11,
     "metadata": {},
     "output_type": "execute_result"
    }
   ],
   "source": [
    "prior = pi_0 = gnb.class_prior_[0]\n",
    "prob_0=[0, var.pdf(X1)]\n",
    "prob_0"
   ]
  },
  {
   "cell_type": "markdown",
   "metadata": {},
   "source": [
    "$P_1 = N(\\mu_1, \\Sigma_1)$"
   ]
  },
  {
   "cell_type": "code",
   "execution_count": 12,
   "metadata": {
    "collapsed": false
   },
   "outputs": [
    {
     "data": {
      "text/plain": [
       "[1, 0.074284709872233928]"
      ]
     },
     "execution_count": 12,
     "metadata": {},
     "output_type": "execute_result"
    }
   ],
   "source": [
    "#now for class 1\n",
    "examples_1 = get_examples_for_class(1)\n",
    "mean_1 = np.array(examples_1.mean(0))[0]\n",
    "cov_1 = np.cov(examples_1.T)\n",
    "p_x_1 = multivariate_normal(mean=mean_1, cov=cov_1)\n",
    "prob_1 = [1, gnb.class_prior_[1] * p_x_1.pdf(X1)]\n",
    "prob_1"
   ]
  },
  {
   "cell_type": "code",
   "execution_count": 13,
   "metadata": {
    "collapsed": false
   },
   "outputs": [
    {
     "data": {
      "text/plain": [
       "[2, 0.0028397660536565485]"
      ]
     },
     "execution_count": 13,
     "metadata": {},
     "output_type": "execute_result"
    }
   ],
   "source": [
    "#now for class 2\n",
    "examples_2 = get_examples_for_class(2)\n",
    "mean_2 = np.array(examples_2.mean(0))[0]\n",
    "cov_2 = np.cov(examples_2.T)\n",
    "p_x_2 = multivariate_normal(mean=mean_2, cov=cov_2)\n",
    "prob_2 = [2, gnb.class_prior_[2] * p_x_2.pdf(X1)]\n",
    "prob_2"
   ]
  },
  {
   "cell_type": "code",
   "execution_count": 14,
   "metadata": {
    "collapsed": false
   },
   "outputs": [
    {
     "name": "stdout",
     "output_type": "stream",
     "text": [
      "versicolor\n"
     ]
    }
   ],
   "source": [
    "prediction = max(prob_0, prob_1, prob_2, key= lambda a: a[1])\n",
    "print iris.target_names[prediction[0]]"
   ]
  },
  {
   "cell_type": "code",
   "execution_count": 15,
   "metadata": {
    "collapsed": false
   },
   "outputs": [
    {
     "name": "stdout",
     "output_type": "stream",
     "text": [
      "versicolor\n"
     ]
    }
   ],
   "source": [
    "X = iris.data\n",
    "Y = iris.target\n",
    "from sklearn.naive_bayes import GaussianNB\n",
    "clf = GaussianNB()\n",
    "clf.fit(X, Y)\n",
    "\n",
    "print(iris.target_names[clf.predict([X1])][0])\n",
    "\n"
   ]
  },
  {
   "cell_type": "markdown",
   "metadata": {},
   "source": [
    "So it seems to be a functioning classifier. Now lets scale this up and test it on the digits dataset."
   ]
  },
  {
   "cell_type": "markdown",
   "metadata": {
    "collapsed": true
   },
   "source": [
    "## Digits"
   ]
  },
  {
   "cell_type": "markdown",
   "metadata": {},
   "source": [
    "Digits should have 10 classes: 0-9 with each example having 784 (representing 28x28 pixel image). A note: scikit's version of nmist is only 8x8 whereas the original is 28*28. SO as you can see above we have 64 features instead of 784"
   ]
  },
  {
   "cell_type": "code",
   "execution_count": 16,
   "metadata": {
    "collapsed": false
   },
   "outputs": [
    {
     "data": {
      "text/plain": [
       "(1078, 64)"
      ]
     },
     "execution_count": 16,
     "metadata": {},
     "output_type": "execute_result"
    }
   ],
   "source": [
    "digits = datasets.load_digits()\n",
    "X_train, X_test, Y_train, Y_test = train_test_split(digits.data, digits.target, test_size=0.4, random_state=4)\n",
    "X_train.shape"
   ]
  },
  {
   "cell_type": "markdown",
   "metadata": {},
   "source": [
    "First we need to calculate the prior probabilites of the 10 classes. For the sake of experimentation we just use scikit's NBClassifer to gen these values for us:"
   ]
  },
  {
   "cell_type": "code",
   "execution_count": 17,
   "metadata": {
    "collapsed": false
   },
   "outputs": [
    {
     "name": "stdout",
     "output_type": "stream",
     "text": [
      "[0 1 2 3 4 5 6 7 8 9]\n"
     ]
    },
    {
     "data": {
      "text/plain": [
       "array([ 0.09369202,  0.10482375,  0.0974026 ,  0.0974026 ,  0.10575139,\n",
       "        0.10296846,  0.0974026 ,  0.10018553,  0.09925788,  0.10111317])"
      ]
     },
     "execution_count": 17,
     "metadata": {},
     "output_type": "execute_result"
    }
   ],
   "source": [
    "helper = GaussianNB()\n",
    "helper.fit(X_train, Y_train)\n",
    "classes = helper.classes_\n",
    "priors = helper.class_prior_\n",
    "print classes\n",
    "priors"
   ]
  },
  {
   "cell_type": "markdown",
   "metadata": {},
   "source": [
    "So from the above we can see the baysian prior probabilities for the 10 classes 0-9 whick looks like a pretty even distribution."
   ]
  },
  {
   "cell_type": "markdown",
   "metadata": {},
   "source": [
    "## Training\n",
    "\n",
    "Now lets generate the baysian posteror probabilities for each class using the training data.\n",
    "\n",
    "See this note on the covariance matrix tuning: http://stackoverflow.com/questions/35273908/scipy-stats-multivariate-normal-raising-linalgerror-singular-matrix-even-thou/35293215\n",
    "\n",
    "We will implement covariance matrix smoothing later, but for now, just set `allow_singular=True`"
   ]
  },
  {
   "cell_type": "code",
   "execution_count": 18,
   "metadata": {
    "collapsed": false
   },
   "outputs": [],
   "source": [
    "posteriors=[]\n",
    "\n",
    "for klass in classes:\n",
    "    examples = get_examples_for_class(klass)\n",
    "    mean = np.array(examples.mean(0))[0]\n",
    "    cov = np.cov(examples.T)\n",
    "    p_x = multivariate_normal(mean=mean, cov=cov)\n",
    "    posteriors.append(p_x)"
   ]
  },
  {
   "cell_type": "markdown",
   "metadata": {},
   "source": [
    "## Classification\n",
    "\n",
    "Now that we have the prior and posterior probabilities for our training set, lets use that to make a prediction:"
   ]
  },
  {
   "cell_type": "code",
   "execution_count": 19,
   "metadata": {
    "collapsed": false
   },
   "outputs": [
    {
     "name": "stdout",
     "output_type": "stream",
     "text": [
      "[  0.   0.   3.  14.  13.  12.  14.   0.   0.   0.  11.  14.  12.  15.   9.\n",
      "   0.   0.   0.  16.   5.   3.  16.   2.   0.   0.   1.   9.   1.  10.  12.\n",
      "   0.   0.   0.   0.   0.   7.  16.  14.   6.   0.   0.   0.   4.  16.  16.\n",
      "  11.   1.   0.   0.   0.   0.  15.   5.   0.   0.   0.   0.   0.   6.  13.\n",
      "   0.   0.   0.   0.]\n"
     ]
    }
   ],
   "source": [
    "#choose a random point from the test data\n",
    "x = random.choice (X_test)\n",
    "print x"
   ]
  },
  {
   "cell_type": "code",
   "execution_count": 20,
   "metadata": {
    "collapsed": false
   },
   "outputs": [
    {
     "data": {
      "text/plain": [
       "[[0, 0.0],\n",
       " [1, 1.0140520342536575e-281],\n",
       " [2, 0.0],\n",
       " [3, 5.5444700721071972e-221],\n",
       " [4, 0.0],\n",
       " [5, 2.4639081660101053e-208],\n",
       " [6, 0.0],\n",
       " [7, 8.1408087153194087e-50],\n",
       " [8, 1.6042311520465275e-319],\n",
       " [9, 1.4456153872364315e-197]]"
      ]
     },
     "execution_count": 20,
     "metadata": {},
     "output_type": "execute_result"
    }
   ],
   "source": [
    "bayes_probs = []\n",
    "for klass in classes:\n",
    "    prob = [klass, priors[klass] * posteriors[klass].pdf(x)]\n",
    "    bayes_probs.append(prob)\n",
    "bayes_probs"
   ]
  },
  {
   "cell_type": "markdown",
   "metadata": {},
   "source": [
    "Notice that the probabilities are VERY small. In this discrete environment we may be losing a lot of percission, so it may be wise to explore using the `log_pdf` instead. We will explore this more later.\n",
    "\n",
    "Now we choose the max and that is our prediction:"
   ]
  },
  {
   "cell_type": "code",
   "execution_count": 21,
   "metadata": {
    "collapsed": false
   },
   "outputs": [
    {
     "name": "stdout",
     "output_type": "stream",
     "text": [
      "7\n"
     ]
    }
   ],
   "source": [
    "prediction = max(bayes_probs, key= lambda a: a[1])\n",
    "print digits.target_names[prediction[0]]"
   ]
  },
  {
   "cell_type": "markdown",
   "metadata": {},
   "source": [
    "So our routine predicted a 4, lets visually confirm:"
   ]
  },
  {
   "cell_type": "code",
   "execution_count": 22,
   "metadata": {
    "collapsed": false
   },
   "outputs": [
    {
     "data": {
      "image/png": "[encoded data removed]",
      "text/plain": [
       "<matplotlib.figure.Figure at 0x109e55a50>"
      ]
     },
     "metadata": {},
     "output_type": "display_data"
    }
   ],
   "source": [
    "plt.figure(1, figsize=(3, 3))\n",
    "plt.imshow(x.reshape(8,8), cmap=plt.cm.gray_r, interpolation='nearest')\n",
    "plt.show()"
   ]
  },
  {
   "cell_type": "markdown",
   "metadata": {},
   "source": [
    "Success!"
   ]
  },
  {
   "cell_type": "markdown",
   "metadata": {},
   "source": [
    "## Benchmark\n",
    "\n",
    "Now lets scale this up and check our error rate"
   ]
  },
  {
   "cell_type": "code",
   "execution_count": 23,
   "metadata": {
    "collapsed": false
   },
   "outputs": [],
   "source": [
    "#first I need an interface to batch test, test input (instead of 1 vector at a time, like above)\n",
    "\n",
    "Y = []\n",
    "for x in X_test:\n",
    "    bayes_probs = []\n",
    "    for klass in classes:\n",
    "        prob = [klass, priors[klass] * posteriors[klass].pdf(x)]\n",
    "        bayes_probs.append(prob)\n",
    "    prediction = max(bayes_probs, key= lambda a: a[1])\n",
    "    Y.append(prediction[0])\n",
    "\n"
   ]
  },
  {
   "cell_type": "code",
   "execution_count": 24,
   "metadata": {
    "collapsed": false
   },
   "outputs": [
    {
     "name": "stdout",
     "output_type": "stream",
     "text": [
      "Error rate: 34/719 = 0.047288\n"
     ]
    }
   ],
   "source": [
    "errors = (Y_test != Y).sum()\n",
    "total = X_test.shape[0]\n",
    "print(\"Error rate: %d/%d = %f\" % ((errors,total,(errors/float(total)))))"
   ]
  },
  {
   "cell_type": "markdown",
   "metadata": {
    "collapsed": false
   },
   "source": [
    "Our naievely implemented Gaussian Classifier achinved a 96% success rate."
   ]
  },
  {
   "cell_type": "markdown",
   "metadata": {},
   "source": [
    "## Error Analysis\n",
    "\n",
    "Lets look at the examples our classifier filed on:"
   ]
  },
  {
   "cell_type": "code",
   "execution_count": 25,
   "metadata": {
    "collapsed": true
   },
   "outputs": [],
   "source": [
    "def displaychar(image):\n",
    "    plt.imshow(np.reshape(image, (8,8)), cmap=plt.cm.gray)\n",
    "    plt.axis('off')"
   ]
  },
  {
   "cell_type": "code",
   "execution_count": 26,
   "metadata": {
    "collapsed": false
   },
   "outputs": [
    {
     "data": {
      "image/png": "[encoded data removed]",
      "text/plain": [
       "<matplotlib.figure.Figure at 0x10a445850>"
      ]
     },
     "metadata": {},
     "output_type": "display_data"
    }
   ],
   "source": [
    "indicies = np.array(np.where((Y_test != Y)==True))[0]\n",
    "\n",
    "index = 0\n",
    "rows = len(indicies)%10\n",
    "cols = 10\n",
    "\n",
    "\n",
    "plt.figure(figsize=(15,7))\n",
    "for i in indicies:\n",
    "    index += 1\n",
    "    plt.subplot(rows, cols, index)\n",
    "    displaychar(X_test[i])\n",
    "    plt.title('exp:%i, act:%i' %( Y[i],Y_test[i]), fontsize = 10)"
   ]
  },
  {
   "cell_type": "markdown",
   "metadata": {},
   "source": [
    "The above figure shows what the classifier expected and what the actual classification. From the error examples above, some of the examples would even be mistaken by a human."
   ]
  },
  {
   "cell_type": "markdown",
   "metadata": {},
   "source": [
    "## Optimizations\n",
    "\n",
    "The scikit version of mnist is a scaleled down verison. If we run this classifier on the official mnist, we will run into some limititations. The Mnist version has 784 features which digis only has 64 and mnist has more examples: 60,000. At this scale the model starts to have issues taking the determiniate of the coviariance matrix and we also start to have issues w/ underflow in the probabilities. \n",
    "\n",
    "### Log Probabilities\n",
    "\n",
    "The bayes model multiplies very small probabilities and while, therortily there is nothign wrong with this, in our discrete limited-percission evironment, we start to experience underflow and our accuracy decreses. A common fix for this is to update our classification step to use log probabilities:\n",
    "\n",
    "```\n",
    "np.log(self.priors[klass]) + self.posteriors[klass].logpdf(x)\n",
    "```"
   ]
  },
  {
   "cell_type": "code",
   "execution_count": 27,
   "metadata": {
    "collapsed": true
   },
   "outputs": [],
   "source": [
    "def predict(self, X):\n",
    "    Y = []\n",
    "    for x in X:\n",
    "        bayes_probs = []\n",
    "        for klass in self.classes_:\n",
    "            prob = [klass, np.log(self.priors[klass]) + self.posteriors[klass].logpdf(x)]\n",
    "            bayes_probs.append(prob)\n",
    "        prediction = max(bayes_probs, key= lambda a: a[1])\n",
    "        Y.append(prediction[0])\n",
    "    return Y"
   ]
  },
  {
   "cell_type": "markdown",
   "metadata": {},
   "source": [
    "### Covariance Matrix Smoothing\n",
    "\n",
    "Another common optimization is to add a smoothing factor to the covariance matrix:\n",
    "\n",
    "$$\n",
    "\\Sigma_j = \\Sigma_j * cI\n",
    "$$\n",
    "\n",
    "Where $I$ is the identity matrix and $c$ is a constant we must set by tuning against the test data and then apply it to the covariance matrix in the training step:"
   ]
  },
  {
   "cell_type": "code",
   "execution_count": 28,
   "metadata": {
    "collapsed": false
   },
   "outputs": [],
   "source": [
    "c = 3500\n",
    "for klass in classes:\n",
    "    examples = get_examples_for_class(klass)\n",
    "    mean = np.array(examples.mean(0))[0]\n",
    "    cov = np.cov(examples, rowvar=0)\n",
    "    cov_smoothed = cov + (c * np.eye(mean.shape[0]))\n",
    "    p_x = multivariate_normal(mean=mean, cov=cov_smoothed)\n",
    "    posteriors.append(p_x)"
   ]
  },
  {
   "cell_type": "markdown",
   "metadata": {},
   "source": [
    "Throught experimentation I find that a value around `3500` works well and achives %96 on full mnist."
   ]
  }
 ],
 "metadata": {
  "kernelspec": {
   "display_name": "Python 2",
   "language": "python",
   "name": "python2"
  },
  "language_info": {
   "codemirror_mode": {
    "name": "ipython",
    "version": 2
   },
   "file_extension": ".py",
   "mimetype": "text/x-python",
   "name": "python",
   "nbconvert_exporter": "python",
   "pygments_lexer": "ipython2",
   "version": "2.7.11"
  }
 },
 "nbformat": 4,
 "nbformat_minor": 0
}
