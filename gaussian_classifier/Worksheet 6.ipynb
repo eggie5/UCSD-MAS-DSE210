{
 "cells": [
  {
   "cell_type": "markdown",
   "metadata": {},
   "source": [
    "# Bivariate Gaussian"
   ]
  },
  {
   "cell_type": "markdown",
   "metadata": {},
   "source": [
    "## 6.a"
   ]
  },
  {
   "cell_type": "code",
   "execution_count": 15,
   "metadata": {
    "collapsed": true
   },
   "outputs": [],
   "source": [
    "mean = [0, 0]\n",
    "cov = [[9, 0], [0, 1]]  "
   ]
  },
  {
   "cell_type": "code",
   "execution_count": 16,
   "metadata": {
    "collapsed": false
   },
   "outputs": [
    {
     "data": {
      "image/png": "[encoded data removed]",
      "text/plain": [
       "<matplotlib.figure.Figure at 0x107d76a90>"
      ]
     },
     "metadata": {},
     "output_type": "display_data"
    }
   ],
   "source": [
    "x, y = np.random.multivariate_normal(mean, cov, 100).T\n",
    "plt.plot(x, y, 'x')\n",
    "plt.axis('equal')\n",
    "plt.show()"
   ]
  },
  {
   "cell_type": "markdown",
   "metadata": {},
   "source": [
    "## 6.b"
   ]
  },
  {
   "cell_type": "code",
   "execution_count": 17,
   "metadata": {
    "collapsed": true
   },
   "outputs": [],
   "source": [
    "mean = [0, 0]\n",
    "cov = [[1, -.75], [-0.75, 1]]  "
   ]
  },
  {
   "cell_type": "code",
   "execution_count": 18,
   "metadata": {
    "collapsed": false
   },
   "outputs": [
    {
     "data": {
      "image/png": "[encoded data removed]",
      "text/plain": [
       "<matplotlib.figure.Figure at 0x107d067d0>"
      ]
     },
     "metadata": {},
     "output_type": "display_data"
    }
   ],
   "source": [
    "x, y = np.random.multivariate_normal(mean, cov, 100).T\n",
    "plt.plot(x, y, 'x')\n",
    "plt.axis('equal')\n",
    "plt.show()"
   ]
  },
  {
   "cell_type": "markdown",
   "metadata": {
    "collapsed": true
   },
   "source": [
    "# 9\n",
    "\n",
    "## mnist Gaussian Classifier"
   ]
  },
  {
   "cell_type": "code",
   "execution_count": 162,
   "metadata": {
    "collapsed": true
   },
   "outputs": [],
   "source": [
    "import numpy as np\n",
    "from sklearn.utils import check_X_y, check_array\n",
    "from scipy.stats import multivariate_normal\n",
    "import pandas as pd"
   ]
  },
  {
   "cell_type": "markdown",
   "metadata": {},
   "source": [
    "### Load data"
   ]
  },
  {
   "cell_type": "code",
   "execution_count": 72,
   "metadata": {
    "collapsed": true
   },
   "outputs": [],
   "source": [
    "from struct import unpack\n",
    "import numpy as np\n",
    "import matplotlib.pylab as plt \n",
    "import sys\n",
    "import os\n",
    "\n",
    "def loadmnist(imagefile, labelfile):\n",
    "    if os.path.isfile(imagefile+'.npy'):\n",
    "        x = np.load(imagefile + '.npy')\n",
    "        y = np.load(labelfile + '.npy')\n",
    "        return (x,y)\n",
    "\n",
    "    # Open the images with gzip in read binary mode\n",
    "    images = open(imagefile, 'rb')\n",
    "    labels = open(labelfile, 'rb')\n",
    "\n",
    "    # Get metadata for images\n",
    "    images.read(4)  # skip the magic_number\n",
    "    number_of_images = images.read(4)\n",
    "    number_of_images = unpack('>I', number_of_images)[0]\n",
    "    rows = images.read(4)\n",
    "    rows = unpack('>I', rows)[0]\n",
    "    cols = images.read(4)\n",
    "    cols = unpack('>I', cols)[0]\n",
    "\n",
    "    # Get metadata for labels\n",
    "    labels.read(4)\n",
    "    N = labels.read(4)\n",
    "    N = unpack('>I', N)[0]\n",
    "\n",
    "    # Get data\n",
    "    x = np.zeros((N, rows*cols), dtype=np.uint8)  # Initialize numpy array\n",
    "    y = np.zeros(N, dtype=np.uint8)  # Initialize numpy array\n",
    "    for i in range(N):\n",
    "        for j in range(rows*cols):\n",
    "            tmp_pixel = images.read(1)  # Just a single byte\n",
    "            tmp_pixel = unpack('>B', tmp_pixel)[0]\n",
    "            x[i][j] = tmp_pixel\n",
    "        tmp_label = labels.read(1)\n",
    "        y[i] = unpack('>B', tmp_label)[0]\n",
    "\n",
    "    images.close()\n",
    "    labels.close()\n",
    "    \n",
    "    np.save(imagefile + '.npy', x)\n",
    "    np.save(labelfile + '.npy', y)\n",
    "    \n",
    "    return (x, y)\n",
    "\n",
    "def displaychar(image):\n",
    "    plt.imshow(np.reshape(image, (28,28)), cmap=plt.cm.gray)\n",
    "    plt.axis('off')\n",
    "#     plt.show()"
   ]
  },
  {
   "cell_type": "code",
   "execution_count": 5,
   "metadata": {
    "collapsed": false
   },
   "outputs": [],
   "source": [
    "X_train, Y_train = loadmnist('../gaussian_classifier/data/train-images-idx3-ubyte', \n",
    "'../gaussian_classifier/data/train-labels-idx1-ubyte')\n",
    "X_test, Y_test = loadmnist('../gaussian_classifier/data/t10k-images-idx3-ubyte', \n",
    "'../gaussian_classifier/data/t10k-labels-idx1-ubyte')"
   ]
  },
  {
   "cell_type": "code",
   "execution_count": 10,
   "metadata": {
    "collapsed": false
   },
   "outputs": [
    {
     "name": "stdout",
     "output_type": "stream",
     "text": [
      "(60000, 784)\n",
      "(10000, 784)\n"
     ]
    }
   ],
   "source": [
    "print X_train.shape\n",
    "print X_test.shape"
   ]
  },
  {
   "cell_type": "markdown",
   "metadata": {},
   "source": [
    "## Implementation\n",
    "\n",
    "Below is the model implementation"
   ]
  },
  {
   "cell_type": "code",
   "execution_count": 131,
   "metadata": {
    "collapsed": false
   },
   "outputs": [],
   "source": [
    "class GaussianClassifier(object):\n",
    "    def __init__(self, c=1, cov_algo=\"numpy\"):\n",
    "        super(GaussianClassifier, self).__init__()\n",
    "        self.c=c\n",
    "        self.cov_algo = cov_algo\n",
    "\n",
    "    def _examples_for_class(self, klass, X_train, Y_train):\n",
    "        examples = []\n",
    "        for i, example in enumerate(X_train):\n",
    "            if Y_train[i]==klass:\n",
    "                examples.append(example)\n",
    "        \n",
    "        examples = np.matrix(examples)\n",
    "        return examples\n",
    "\n",
    "    def fit(self, X, y):\n",
    "        X, y = check_X_y(X, y)\n",
    "        print(\"c=%s, cov_algo=%s\"%(self.c,self.cov_algo))\n",
    "        \n",
    "        classes=np.unique(y)\n",
    "        self.classes_ = np.unique(y)\n",
    "        n_classes = len(self.classes_)\n",
    "        self.class_prior_ = np.zeros(n_classes)\n",
    "        self.class_count_ = np.zeros(n_classes)\n",
    "        unique_y = np.unique(y)\n",
    "         \n",
    "        for y_i in unique_y:\n",
    "            i = classes.searchsorted(y_i)\n",
    "            X_i = X[y == y_i, :]\n",
    "            sw_i = None\n",
    "            N_i = X_i.shape[0]\n",
    "            \n",
    "            self.class_count_[i] += N_i\n",
    "        \n",
    "        self.class_prior_[:] = self.class_count_ / np.sum(self.class_count_)\n",
    "        self.priors = self.class_prior_\n",
    "        \n",
    "        self.posteriors=[]\n",
    "\n",
    "        for klass in self.classes_:\n",
    "            examples = self._examples_for_class(klass, X, y)\n",
    "            mean = np.array(examples.mean(0))[0]\n",
    "            cov = self._cov(examples)\n",
    "            cov_smoothed = cov + (self.c * np.eye(mean.shape[0]))\n",
    "            p_x = multivariate_normal(mean=mean, cov=cov_smoothed)\n",
    "            self.posteriors.append(p_x)\n",
    "        return self\n",
    "    \n",
    "    def predict(self, X):\n",
    "        Y = []\n",
    "        for x in X:\n",
    "            bayes_probs = []\n",
    "            for klass in self.classes_:\n",
    "                prob = [klass, np.log(self.priors[klass]) + self.posteriors[klass].logpdf(x)]\n",
    "                bayes_probs.append(prob)\n",
    "            prediction = max(bayes_probs, key= lambda a: a[1])\n",
    "            Y.append(prediction[0])\n",
    "        return Y\n",
    "        \n",
    "    def _cov(self, examples):\n",
    "        if self.cov_algo ==\"numpy\":\n",
    "            return np.cov(examples, rowvar=0)\n",
    "        elif self.cov_algo == \"EmpiricalCovariance\":\n",
    "            return EmpiricalCovariance().fit(examples).covariance_\n",
    "        else:\n",
    "            return None\n",
    "            \n",
    "    \n",
    "    def get_params(self, deep=True):\n",
    "        params = {'c': 1.0, 'cov_algo': 'numpy'}\n",
    "        return params\n",
    "    \n",
    "    def set_params(self, **params):\n",
    "        for key, value in params.iteritems():\n",
    "            setattr(self, key, value)"
   ]
  },
  {
   "cell_type": "markdown",
   "metadata": {},
   "source": [
    "### Fit the model"
   ]
  },
  {
   "cell_type": "code",
   "execution_count": 132,
   "metadata": {
    "collapsed": false
   },
   "outputs": [
    {
     "name": "stdout",
     "output_type": "stream",
     "text": [
      "c=1, cov_algo=numpy\n"
     ]
    },
    {
     "data": {
      "text/plain": [
       "<__main__.GaussianClassifier at 0x124307a50>"
      ]
     },
     "execution_count": 132,
     "metadata": {},
     "output_type": "execute_result"
    }
   ],
   "source": [
    "clf = GaussianClassifier()\n",
    "clf.fit(X_train, Y_train)"
   ]
  },
  {
   "cell_type": "markdown",
   "metadata": {},
   "source": [
    "### Determine the class probabilities"
   ]
  },
  {
   "cell_type": "markdown",
   "metadata": {},
   "source": [
    "Below we output the baysian prior and posterior probabilities.\n",
    "\n",
    "* `class_prior_` are the prior probabilities of the classes 0-9\n",
    "* `posteriers` are the Gaussians for each class 0-9\n",
    "\n",
    "Now, using bayes therom we an make predictions on test data."
   ]
  },
  {
   "cell_type": "code",
   "execution_count": 18,
   "metadata": {
    "collapsed": false
   },
   "outputs": [
    {
     "data": {
      "text/plain": [
       "array([ 0.09871667,  0.11236667,  0.0993    ,  0.10218333,  0.09736667,\n",
       "        0.09035   ,  0.09863333,  0.10441667,  0.09751667,  0.09915   ])"
      ]
     },
     "execution_count": 18,
     "metadata": {},
     "output_type": "execute_result"
    }
   ],
   "source": [
    "clf.class_prior_"
   ]
  },
  {
   "cell_type": "code",
   "execution_count": 19,
   "metadata": {
    "collapsed": false
   },
   "outputs": [
    {
     "data": {
      "text/plain": [
       "[<scipy.stats._multivariate.multivariate_normal_frozen at 0x1152d4a90>,\n",
       " <scipy.stats._multivariate.multivariate_normal_frozen at 0x1154549d0>,\n",
       " <scipy.stats._multivariate.multivariate_normal_frozen at 0x115454850>,\n",
       " <scipy.stats._multivariate.multivariate_normal_frozen at 0x115454950>,\n",
       " <scipy.stats._multivariate.multivariate_normal_frozen at 0x115454910>,\n",
       " <scipy.stats._multivariate.multivariate_normal_frozen at 0x115454990>,\n",
       " <scipy.stats._multivariate.multivariate_normal_frozen at 0x115454ad0>,\n",
       " <scipy.stats._multivariate.multivariate_normal_frozen at 0x1154548d0>,\n",
       " <scipy.stats._multivariate.multivariate_normal_frozen at 0x115495950>,\n",
       " <scipy.stats._multivariate.multivariate_normal_frozen at 0x1154958d0>]"
      ]
     },
     "execution_count": 19,
     "metadata": {},
     "output_type": "execute_result"
    }
   ],
   "source": [
    "clf.posteriors"
   ]
  },
  {
   "cell_type": "markdown",
   "metadata": {},
   "source": [
    "### Classify new digits\n",
    "\n",
    "We will test all the digits in our test dataset and check the error rate"
   ]
  },
  {
   "cell_type": "code",
   "execution_count": 20,
   "metadata": {
    "collapsed": false
   },
   "outputs": [
    {
     "name": "stdout",
     "output_type": "stream",
     "text": [
      "Success rate:\t 8412/10000 = 0.841200\n",
      "Error rate:\t 1588/10000 = 0.158800\n"
     ]
    }
   ],
   "source": [
    "Y = clf.predict(X_test)\n",
    "\n",
    "errors = (Y_test != Y).sum()\n",
    "total = X_test.shape[0]\n",
    "print(\"Success rate:\\t %d/%d = %f\" % ((total-errors,total,((total-errors)/float(total)))))\n",
    "print(\"Error rate:\\t %d/%d = %f\" % ((errors,total,(errors/float(total)))))"
   ]
  },
  {
   "cell_type": "markdown",
   "metadata": {},
   "source": [
    "Using our simple classifier (no paramerter tuning) we got a decent score of %84 "
   ]
  },
  {
   "cell_type": "markdown",
   "metadata": {},
   "source": [
    "### Optimization\n",
    "\n",
    "We can tune the parameters to get a better score.\n",
    "\n",
    "#### Covariance Matrix smoothing\n",
    "\n",
    "We can add a smoothing factor to our covariance matrix by tuing the `c` parameter of our model. Let's find the factor that get the highest accuracy. We know from experimentation that the best value is inbetween 3000 and 4000. Lets find a more exact value."
   ]
  },
  {
   "cell_type": "code",
   "execution_count": 23,
   "metadata": {
    "collapsed": false
   },
   "outputs": [
    {
     "name": "stdout",
     "output_type": "stream",
     "text": [
      "training...\n",
      "c=3000, cov_algo=numpy\n",
      "classifying...\n",
      "Success rate:\t 9565/10000 = 0.956500\n",
      "training...\n",
      "c=3100, cov_algo=numpy\n",
      "classifying...\n",
      "Success rate:\t 9565/10000 = 0.956500\n",
      "training...\n",
      "c=3200, cov_algo=numpy\n",
      "classifying...\n",
      "Success rate:\t 9564/10000 = 0.956400\n",
      "training...\n",
      "c=3300, cov_algo=numpy\n",
      "classifying...\n",
      "Success rate:\t 9564/10000 = 0.956400\n",
      "training...\n",
      "c=3400, cov_algo=numpy\n",
      "classifying...\n",
      "Success rate:\t 9565/10000 = 0.956500\n",
      "training...\n",
      "c=3500, cov_algo=numpy\n",
      "classifying...\n",
      "Success rate:\t 9562/10000 = 0.956200\n",
      "training...\n",
      "c=3600, cov_algo=numpy\n",
      "classifying...\n",
      "Success rate:\t 9564/10000 = 0.956400\n",
      "training...\n",
      "c=3700, cov_algo=numpy\n",
      "classifying...\n",
      "Success rate:\t 9565/10000 = 0.956500\n",
      "training...\n",
      "c=3800, cov_algo=numpy\n",
      "classifying...\n",
      "Success rate:\t 9566/10000 = 0.956600\n",
      "training...\n",
      "c=3900, cov_algo=numpy\n",
      "classifying...\n",
      "Success rate:\t 9571/10000 = 0.957100\n"
     ]
    }
   ],
   "source": [
    "_c=[3000, 3100, 3200, 3300, 3400, 3500, 3600, 3700, 3800, 3900]\n",
    "\n",
    "for c in _c:\n",
    "    clf =  GaussianClassifier(c=c)\n",
    "    print \"training...\"\n",
    "    clf.fit(X_train, Y_train)\n",
    "    print \"classifying...\"\n",
    "    Y = clf.predict(X_test)\n",
    "\n",
    "    errors = (Y_test != Y).sum()\n",
    "    total = X_test.shape[0]\n",
    "    print(\"Success rate:\\t %d/%d = %f\" % ((total-errors,total,((total-errors)/float(total)))))"
   ]
  },
  {
   "cell_type": "markdown",
   "metadata": {},
   "source": [
    "As you can see, c=`3400` looks like the optimum value:"
   ]
  },
  {
   "cell_type": "code",
   "execution_count": 24,
   "metadata": {
    "collapsed": false
   },
   "outputs": [
    {
     "name": "stdout",
     "output_type": "stream",
     "text": [
      "training...\n",
      "c=3400, cov_algo=numpy\n",
      "classifying...\n",
      "Success rate:\t 9565/10000 = 0.956500\n",
      "Error rate:\t 435/10000 = 0.043500\n",
      "\n"
     ]
    }
   ],
   "source": [
    "clf =  GaussianClassifier(c=3400)\n",
    "print \"training...\"\n",
    "clf.fit(X_train, Y_train)\n",
    "print \"classifying...\"\n",
    "Y = clf.predict(X_test)\n",
    "\n",
    "errors = (Y_test != Y).sum()\n",
    "total = X_test.shape[0]\n",
    "print(\"Success rate:\\t %d/%d = %f\" % ((total-errors,total,((total-errors)/float(total)))))\n",
    "print(\"Error rate:\\t %d/%d = %f\" % ((errors,total,(errors/float(total)))))\n",
    "print \"\""
   ]
  },
  {
   "cell_type": "markdown",
   "metadata": {},
   "source": [
    "As you can see we achieved an error rate of 4.3%"
   ]
  },
  {
   "cell_type": "markdown",
   "metadata": {},
   "source": [
    "### Error Analysis\n",
    "\n",
    "Let's take a look at some of the examples that were misclassified"
   ]
  },
  {
   "cell_type": "code",
   "execution_count": 109,
   "metadata": {
    "collapsed": false
   },
   "outputs": [
    {
     "data": {
      "image/png": "[encoded data removed]",
      "text/plain": [
       "<matplotlib.figure.Figure at 0x133c62810>"
      ]
     },
     "metadata": {},
     "output_type": "display_data"
    }
   ],
   "source": [
    "errors = Y_test != Y\n",
    "indicies = np.array(np.where(errors==True))[0]\n",
    "indicies = np.random.choice(indicies,5)\n",
    "\n",
    "\n",
    "index = 0\n",
    "rows = 1\n",
    "cols = 10\n",
    "plt.figure(figsize=(s,5))\n",
    "for i in indicies:\n",
    "    index += 1\n",
    "    plt.subplot(rows, cols, index)\n",
    "    displaychar(X_test[i])\n",
    "    plt.title('exp:%i, act:%i' %( Y[i],Y_test[i]), fontsize = 10)"
   ]
  },
  {
   "cell_type": "markdown",
   "metadata": {},
   "source": [
    "As you can see most of the errors the algorthm made are errors a human can make too "
   ]
  },
  {
   "cell_type": "markdown",
   "metadata": {},
   "source": [
    "\n",
    "Now we will show the posterior probabilities"
   ]
  },
  {
   "cell_type": "code",
   "execution_count": 166,
   "metadata": {
    "collapsed": false
   },
   "outputs": [
    {
     "name": "stdout",
     "output_type": "stream",
     "text": [
      "[6 3 4 7 5]\n"
     ]
    },
    {
     "data": {
      "text/html": [
       "<div>\n",
       "<table border=\"1\" class=\"dataframe\">\n",
       "  <thead>\n",
       "    <tr style=\"text-align: right;\">\n",
       "      <th></th>\n",
       "      <th>6</th>\n",
       "      <th>3</th>\n",
       "      <th>4</th>\n",
       "      <th>7</th>\n",
       "      <th>5</th>\n",
       "    </tr>\n",
       "  </thead>\n",
       "  <tbody>\n",
       "    <tr>\n",
       "      <th>0</th>\n",
       "      <td>-3075.946884</td>\n",
       "      <td>-3991.481861</td>\n",
       "      <td>-5836.290039</td>\n",
       "      <td>-6165.192444</td>\n",
       "      <td>-3320.723612</td>\n",
       "    </tr>\n",
       "    <tr>\n",
       "      <th>1</th>\n",
       "      <td>-74176.131827</td>\n",
       "      <td>-50241.758308</td>\n",
       "      <td>-11189.466481</td>\n",
       "      <td>-2855.363819</td>\n",
       "      <td>-7722.781325</td>\n",
       "    </tr>\n",
       "    <tr>\n",
       "      <th>2</th>\n",
       "      <td>-7008.235465</td>\n",
       "      <td>-2855.146616</td>\n",
       "      <td>-4577.553612</td>\n",
       "      <td>-4462.907203</td>\n",
       "      <td>-17125.505543</td>\n",
       "    </tr>\n",
       "    <tr>\n",
       "      <th>3</th>\n",
       "      <td>-32443.945013</td>\n",
       "      <td>-2779.749698</td>\n",
       "      <td>-3153.717663</td>\n",
       "      <td>-2821.573478</td>\n",
       "      <td>-2887.681289</td>\n",
       "    </tr>\n",
       "    <tr>\n",
       "      <th>4</th>\n",
       "      <td>-3418.608915</td>\n",
       "      <td>-64844.998752</td>\n",
       "      <td>-2570.321709</td>\n",
       "      <td>-2496.924101</td>\n",
       "      <td>-3130.056956</td>\n",
       "    </tr>\n",
       "    <tr>\n",
       "      <th>5</th>\n",
       "      <td>-3212.594253</td>\n",
       "      <td>-3646.063797</td>\n",
       "      <td>-3036.050087</td>\n",
       "      <td>-2862.564747</td>\n",
       "      <td>-2671.305656</td>\n",
       "    </tr>\n",
       "    <tr>\n",
       "      <th>6</th>\n",
       "      <td>-4774.960484</td>\n",
       "      <td>-134006.597711</td>\n",
       "      <td>-34876.551772</td>\n",
       "      <td>-46756.171635</td>\n",
       "      <td>-176336.423392</td>\n",
       "    </tr>\n",
       "    <tr>\n",
       "      <th>7</th>\n",
       "      <td>-3593.006669</td>\n",
       "      <td>-67518.667707</td>\n",
       "      <td>-2506.167334</td>\n",
       "      <td>-2445.818431</td>\n",
       "      <td>-2670.326600</td>\n",
       "    </tr>\n",
       "    <tr>\n",
       "      <th>8</th>\n",
       "      <td>-3605.872434</td>\n",
       "      <td>-19299.760123</td>\n",
       "      <td>-2662.155577</td>\n",
       "      <td>-2537.025966</td>\n",
       "      <td>-2575.895874</td>\n",
       "    </tr>\n",
       "    <tr>\n",
       "      <th>9</th>\n",
       "      <td>-3736.293361</td>\n",
       "      <td>-49475.363105</td>\n",
       "      <td>-2429.126298</td>\n",
       "      <td>-2271.933006</td>\n",
       "      <td>-2924.501713</td>\n",
       "    </tr>\n",
       "  </tbody>\n",
       "</table>\n",
       "</div>"
      ],
      "text/plain": [
       "              6              3             4             7              5\n",
       "0  -3075.946884   -3991.481861  -5836.290039  -6165.192444   -3320.723612\n",
       "1 -74176.131827  -50241.758308 -11189.466481  -2855.363819   -7722.781325\n",
       "2  -7008.235465   -2855.146616  -4577.553612  -4462.907203  -17125.505543\n",
       "3 -32443.945013   -2779.749698  -3153.717663  -2821.573478   -2887.681289\n",
       "4  -3418.608915  -64844.998752  -2570.321709  -2496.924101   -3130.056956\n",
       "5  -3212.594253   -3646.063797  -3036.050087  -2862.564747   -2671.305656\n",
       "6  -4774.960484 -134006.597711 -34876.551772 -46756.171635 -176336.423392\n",
       "7  -3593.006669  -67518.667707  -2506.167334  -2445.818431   -2670.326600\n",
       "8  -3605.872434  -19299.760123  -2662.155577  -2537.025966   -2575.895874\n",
       "9  -3736.293361  -49475.363105  -2429.126298  -2271.933006   -2924.501713"
      ]
     },
     "execution_count": 166,
     "metadata": {},
     "output_type": "execute_result"
    }
   ],
   "source": [
    "err_classes = Y_test[indicies]\n",
    "err_inputs = X_test[indicies]\n",
    "print err_classes\n",
    "priors = clf.priors\n",
    "\n",
    "gaussians=np.array(clf.posteriors)\n",
    "\n",
    "posts = []\n",
    "for i,gaussian in enumerate(gaussians):\n",
    "    for j, x in enumerate(err_inputs):\n",
    "        post = gaussian.logpdf(x)\n",
    "        posts.append(post)\n",
    "pxs=np.array(posts)\n",
    "pxs = pxs.reshape(10,5)\n",
    "df = pd.DataFrame(pxs)\n",
    "df.columns= err_classes\n",
    "df"
   ]
  },
  {
   "cell_type": "code",
   "execution_count": null,
   "metadata": {
    "collapsed": true
   },
   "outputs": [],
   "source": []
  }
 ],
 "metadata": {
  "kernelspec": {
   "display_name": "Python 2",
   "language": "python",
   "name": "python2"
  },
  "language_info": {
   "codemirror_mode": {
    "name": "ipython",
    "version": 2
   },
   "file_extension": ".py",
   "mimetype": "text/x-python",
   "name": "python",
   "nbconvert_exporter": "python",
   "pygments_lexer": "ipython2",
   "version": "2.7.11"
  }
 },
 "nbformat": 4,
 "nbformat_minor": 0
}
